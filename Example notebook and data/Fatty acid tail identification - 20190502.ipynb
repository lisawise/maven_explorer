{
 "cells": [
  {
   "cell_type": "markdown",
   "metadata": {},
   "source": [
    "## Getting Started"
   ]
  },
  {
   "cell_type": "markdown",
   "metadata": {},
   "source": [
    "#### Instructions to start:"
   ]
  },
  {
   "cell_type": "markdown",
   "metadata": {},
   "source": [
    "All scripts / notebook files (files ending with .ipynb) need to be in a local directory (i.e. on the data analysis computer or laptop). You can't access scripts on the server, but you can store all your csv and output files there and I recommend backing up your scripts on the server as well. I like to put them in a folder on the desktop that's easy to navigate to."
   ]
  },
  {
   "cell_type": "markdown",
   "metadata": {},
   "source": [
    "To access a notebook, type \"jupyter\" in the windows start bar and open \"Jupyter Notebook\"\n",
    "A web browser will open and you can go to the directory where you have stored the script. \n",
    "Click on the text to open it in a new tab. On the original directory tab it will now show as green because it is running."
   ]
  },
  {
   "cell_type": "markdown",
   "metadata": {},
   "source": [
    "#### Running the notebook"
   ]
  },
  {
   "cell_type": "markdown",
   "metadata": {},
   "source": [
    "Click on each gray cell block to be able to modify it. To \"Run\" the entire cell block, press CTRL+Enter. When a cell block is running, there will be an * next to it, and when it is finished there will be a number next to it. The number shows you the order the cells were run in. You first need to run the \"load packages\" cell."
   ]
  },
  {
   "cell_type": "markdown",
   "metadata": {},
   "source": [
    "#### load packages (check version on maven_explorer and note)"
   ]
  },
  {
   "cell_type": "code",
   "execution_count": 1,
   "metadata": {},
   "outputs": [],
   "source": [
    "import maven_explorer as mv ## version 20190502\n",
    "import pandas as pd\n",
    "import numpy as np\n",
    "from pyteomics import mgf, mzxml, mass\n",
    "import os\n",
    "import matplotlib.pyplot as plt\n"
   ]
  },
  {
   "cell_type": "markdown",
   "metadata": {},
   "source": [
    "#### Set variables"
   ]
  },
  {
   "cell_type": "markdown",
   "metadata": {},
   "source": [
    "This is the cell block you need to change. Change the variables \"date_name\", \"col_name\", \"charge_name\" and \"phase_name\" to end up with the \"base_name\" that will be added to your result files. In this case the base_name is \"20171222_PERK_E4_pos_PC\" but it can be anything you want. If you need to change something after you've run it, you can always change it in the cell block and rerun it by pressing CTRL+Enter, but you may need to re-run downstream blocks as well."
   ]
  },
  {
   "cell_type": "markdown",
   "metadata": {},
   "source": [
    "Change the directories (inside quotation marks) to the places where 1) output files will be stored (\"data_out\"), 2) .mzxml (MS data files, \"mzxml_dir\") are, and 3) where the Maven output CSV files are stored (\"data_dir\"). REMEMBER that if you re-organize folders you will have to change these directory names to match."
   ]
  },
  {
   "cell_type": "markdown",
   "metadata": {},
   "source": [
    "Change \"maven_name\" inside the quotation marks into the CSV file you want to search from"
   ]
  },
  {
   "cell_type": "code",
   "execution_count": 2,
   "metadata": {},
   "outputs": [
    {
     "name": "stdout",
     "output_type": "stream",
     "text": [
      "base file name is: 20190416_dl37x1_TLCK_5_neg_PE\n",
      "Maven CSV file is: 20190416_neg_PE_rawdata.csv\n"
     ]
    }
   ],
   "source": [
    "date_name = \"20190416\"\n",
    "col_name = \"dl37x1_TLCK_5\"\n",
    "charge_name = \"neg\"\n",
    "phase_name = \"PE\"\n",
    "base_name = date_name+\"_\"+col_name+\"_\"+charge_name+\"_\"+phase_name\n",
    "print('base file name is: '+base_name)\n",
    "\n",
    "### where output files will be stored\n",
    "data_out = r\"C:\\Users\\Lisa\\Desktop\\Python scripts\\MS2 generation scripts 20190329\\output\"\n",
    "\n",
    "## directory for mzxml files\n",
    "mzxml_dir = r\"Z:\\MSdata\\yxi\\20190415_dl37x1_TLCK_5\"\n",
    "\n",
    "### where maven files are\n",
    "data_dir = r\"C:\\Users\\Lisa\\Desktop\\Python scripts\\MS2 generation scripts 20190329\\maven\"\n",
    "### maven file\n",
    "maven_name = '20190416_neg_PE_rawdata.csv'\n",
    "print('Maven CSV file is: '+maven_name)\n"
   ]
  },
  {
   "cell_type": "markdown",
   "metadata": {},
   "source": [
    "## Generate MS2 spectra database"
   ]
  },
  {
   "cell_type": "markdown",
   "metadata": {},
   "source": [
    "Now just click on each cell block and press CTRL-ENTER to run."
   ]
  },
  {
   "cell_type": "markdown",
   "metadata": {},
   "source": [
    "This cell block will first tell you all the .mzxml files (samples) it will search, it gets the list from the CSV file you gave it. Then it will go through each file individually and look for all the compounds. As it's searching each file it will say the name of the file and \"Processing...\" then moved on to the next file. If it can't file a file it will say \"file not found\" and skip to the next sample"
   ]
  },
  {
   "cell_type": "code",
   "execution_count": 5,
   "metadata": {},
   "outputs": [
    {
     "name": "stdout",
     "output_type": "stream",
     "text": [
      "['20190415_neg_blankmid04.mzxml', '20190415_neg_blankpost05.mzxml', '20190415_neg_blankpost06.mzxml', '20190415_neg_blankpost07.mzxml', '20190415_neg_blankpre01.mzxml', '20190415_neg_blankpre02.mzxml', '20190415_neg_blankpre03.mzxml', '20190415_neg_no_cell_a.mzxml', '20190415_neg_no_cell_b.mzxml', '20190415_neg_mock_dmso_a.mzxml', '20190415_neg_mock_dmso_b.mzxml', '20190415_neg_mock_TLCK_a.mzxml', '20190415_neg_mock_TLCK_b.mzxml', '20190415_neg_WT_dmso_a.mzxml', '20190415_neg_WT_dmso_b.mzxml', '20190415_neg_WT_TLCK_a.mzxml', '20190415_neg_WT_TLCK_b.mzxml', '20190415_neg_dl37x1_dmos_a.mzxml', '20190415_neg_dl37x1_dmos_b.mzxml', '20190415_neg_dl37x1_TLCK_a.mzxml', '20190415_neg_dl37x1_TLCK_b.mzxml']\n",
      "20190415_neg_blankmid04.mzxml : Processing...\n",
      "20190415_neg_blankpost05.mzxml : Processing...\n",
      "20190415_neg_blankpost06.mzxml : Processing...\n",
      "20190415_neg_blankpost07.mzxml : Processing...\n",
      "20190415_neg_blankpre01.mzxml : Processing...\n",
      "20190415_neg_blankpre02.mzxml : Processing...\n",
      "20190415_neg_blankpre03.mzxml : Processing...\n",
      "20190415_neg_no_cell_a.mzxml : Processing...\n",
      "20190415_neg_no_cell_b.mzxml : Processing...\n",
      "20190415_neg_mock_dmso_a.mzxml : Processing...\n",
      "20190415_neg_mock_dmso_b.mzxml : Processing...\n",
      "20190415_neg_mock_TLCK_a.mzxml : Processing...\n",
      "20190415_neg_mock_TLCK_b.mzxml : Processing...\n",
      "20190415_neg_WT_dmso_a.mzxml : Processing...\n",
      "20190415_neg_WT_dmso_b.mzxml : Processing...\n",
      "20190415_neg_WT_TLCK_a.mzxml : Processing...\n",
      "20190415_neg_WT_TLCK_b.mzxml : Processing...\n",
      "20190415_neg_dl37x1_dmos_a.mzxml : Processing...\n",
      "20190415_neg_dl37x1_dmos_b.mzxml : Processing...\n",
      "20190415_neg_dl37x1_TLCK_a.mzxml : Processing...\n",
      "20190415_neg_dl37x1_TLCK_b.mzxml : Processing...\n"
     ]
    }
   ],
   "source": [
    "mdf = pd.read_csv(os.path.join(data_dir, maven_name))\n",
    "df_raw = mv.mzxml_import_untargeted(mdf, mzxml_dir)\n",
    "\n",
    "filtered_data = mv.df_remove_na(df_raw)"
   ]
  },
  {
   "cell_type": "markdown",
   "metadata": {},
   "source": [
    "This cell block tells you information about the matrix you have just generated. The # of rows is how many spectra were found. The # of unique compounds is how many compounds (from the ones in your Maven CSV file) it was able to find."
   ]
  },
  {
   "cell_type": "code",
   "execution_count": 6,
   "metadata": {},
   "outputs": [
    {
     "name": "stdout",
     "output_type": "stream",
     "text": [
      "# of rows: 555\n",
      "# of unique compounds: 26\n"
     ]
    },
    {
     "data": {
      "text/html": [
       "<div>\n",
       "<style scoped>\n",
       "    .dataframe tbody tr th:only-of-type {\n",
       "        vertical-align: middle;\n",
       "    }\n",
       "\n",
       "    .dataframe tbody tr th {\n",
       "        vertical-align: top;\n",
       "    }\n",
       "\n",
       "    .dataframe thead th {\n",
       "        text-align: right;\n",
       "    }\n",
       "</style>\n",
       "<table border=\"1\" class=\"dataframe\">\n",
       "  <thead>\n",
       "    <tr style=\"text-align: right;\">\n",
       "      <th></th>\n",
       "      <th>compound</th>\n",
       "      <th>medMz</th>\n",
       "      <th>medRt</th>\n",
       "      <th>precursorMz_m</th>\n",
       "      <th>retentionTime_m</th>\n",
       "      <th>mzarray</th>\n",
       "      <th>mzarray_norm</th>\n",
       "      <th>sample</th>\n",
       "    </tr>\n",
       "  </thead>\n",
       "  <tbody>\n",
       "    <tr>\n",
       "      <th>2</th>\n",
       "      <td>LPE(18:1)</td>\n",
       "      <td>478.2940</td>\n",
       "      <td>4.491090</td>\n",
       "      <td>478.294700</td>\n",
       "      <td>4.355333</td>\n",
       "      <td>[[50.377678, 371.70233], [60.227783, 350.77283...</td>\n",
       "      <td>[[281.2485, 1.0], [97.137474, 0.15657541], [73...</td>\n",
       "      <td>20190415_neg_no_cell_a.mzxml</td>\n",
       "    </tr>\n",
       "    <tr>\n",
       "      <th>3</th>\n",
       "      <td>LPE(18:1)</td>\n",
       "      <td>478.2940</td>\n",
       "      <td>4.491090</td>\n",
       "      <td>478.294600</td>\n",
       "      <td>4.533850</td>\n",
       "      <td>[[54.16857, 431.823], [61.352737, 390.84186], ...</td>\n",
       "      <td>[[281.24857, 1.0], [72.33921, 0.3456939], [97....</td>\n",
       "      <td>20190415_neg_no_cell_a.mzxml</td>\n",
       "    </tr>\n",
       "    <tr>\n",
       "      <th>7</th>\n",
       "      <td>PE(34:1)</td>\n",
       "      <td>716.5236</td>\n",
       "      <td>7.343664</td>\n",
       "      <td>716.525100</td>\n",
       "      <td>7.242267</td>\n",
       "      <td>[[50.899265, 419.76917], [53.46752, 408.4398],...</td>\n",
       "      <td>[[281.24908, 1.0], [255.23322, 0.61523485], [7...</td>\n",
       "      <td>20190415_neg_no_cell_a.mzxml</td>\n",
       "    </tr>\n",
       "    <tr>\n",
       "      <th>9</th>\n",
       "      <td>PE(36:1)</td>\n",
       "      <td>744.5551</td>\n",
       "      <td>7.800491</td>\n",
       "      <td>744.556967</td>\n",
       "      <td>7.690483</td>\n",
       "      <td>[[52.477253, 436.31097], [58.639328, 466.2066]...</td>\n",
       "      <td>[[281.2491, 1.0], [283.26492, 0.44901642], [61...</td>\n",
       "      <td>20190415_neg_no_cell_a.mzxml</td>\n",
       "    </tr>\n",
       "    <tr>\n",
       "      <th>10</th>\n",
       "      <td>PE(36:1)</td>\n",
       "      <td>744.5551</td>\n",
       "      <td>7.800491</td>\n",
       "      <td>744.556335</td>\n",
       "      <td>7.870767</td>\n",
       "      <td>[[52.15212, 474.45694], [57.537872, 394.1312],...</td>\n",
       "      <td>[[97.14054, 1.0], [281.2483, 0.53961277], [603...</td>\n",
       "      <td>20190415_neg_no_cell_a.mzxml</td>\n",
       "    </tr>\n",
       "  </tbody>\n",
       "</table>\n",
       "</div>"
      ],
      "text/plain": [
       "     compound     medMz     medRt  precursorMz_m  retentionTime_m  \\\n",
       "2   LPE(18:1)  478.2940  4.491090     478.294700         4.355333   \n",
       "3   LPE(18:1)  478.2940  4.491090     478.294600         4.533850   \n",
       "7    PE(34:1)  716.5236  7.343664     716.525100         7.242267   \n",
       "9    PE(36:1)  744.5551  7.800491     744.556967         7.690483   \n",
       "10   PE(36:1)  744.5551  7.800491     744.556335         7.870767   \n",
       "\n",
       "                                              mzarray  \\\n",
       "2   [[50.377678, 371.70233], [60.227783, 350.77283...   \n",
       "3   [[54.16857, 431.823], [61.352737, 390.84186], ...   \n",
       "7   [[50.899265, 419.76917], [53.46752, 408.4398],...   \n",
       "9   [[52.477253, 436.31097], [58.639328, 466.2066]...   \n",
       "10  [[52.15212, 474.45694], [57.537872, 394.1312],...   \n",
       "\n",
       "                                         mzarray_norm  \\\n",
       "2   [[281.2485, 1.0], [97.137474, 0.15657541], [73...   \n",
       "3   [[281.24857, 1.0], [72.33921, 0.3456939], [97....   \n",
       "7   [[281.24908, 1.0], [255.23322, 0.61523485], [7...   \n",
       "9   [[281.2491, 1.0], [283.26492, 0.44901642], [61...   \n",
       "10  [[97.14054, 1.0], [281.2483, 0.53961277], [603...   \n",
       "\n",
       "                          sample  \n",
       "2   20190415_neg_no_cell_a.mzxml  \n",
       "3   20190415_neg_no_cell_a.mzxml  \n",
       "7   20190415_neg_no_cell_a.mzxml  \n",
       "9   20190415_neg_no_cell_a.mzxml  \n",
       "10  20190415_neg_no_cell_a.mzxml  "
      ]
     },
     "execution_count": 6,
     "metadata": {},
     "output_type": "execute_result"
    }
   ],
   "source": [
    "print('# of rows: '+str(len(filtered_data)))\n",
    "print('# of unique compounds: '+str(len(filtered_data['compound'].unique())))\n",
    "filtered_data.head()"
   ]
  },
  {
   "cell_type": "markdown",
   "metadata": {},
   "source": [
    "#### Save database to \"pkl\" file so you don't have to run this part again"
   ]
  },
  {
   "cell_type": "markdown",
   "metadata": {},
   "source": [
    "the file will be saved as whatever you have chosen as \"base_name\" plus \" filtered_data.pkl\""
   ]
  },
  {
   "cell_type": "code",
   "execution_count": 7,
   "metadata": {},
   "outputs": [],
   "source": [
    "filtered_data.to_pickle(os.path.join(data_out, base_name+\"_filtered_data.pkl\"))"
   ]
  },
  {
   "cell_type": "markdown",
   "metadata": {},
   "source": [
    "#### read back pkl to continue working on file"
   ]
  },
  {
   "cell_type": "markdown",
   "metadata": {},
   "source": [
    "This cell block is optional if you want to read back in a file to keep working on it."
   ]
  },
  {
   "cell_type": "code",
   "execution_count": 16,
   "metadata": {
    "scrolled": true
   },
   "outputs": [
    {
     "data": {
      "text/html": [
       "<div>\n",
       "<style scoped>\n",
       "    .dataframe tbody tr th:only-of-type {\n",
       "        vertical-align: middle;\n",
       "    }\n",
       "\n",
       "    .dataframe tbody tr th {\n",
       "        vertical-align: top;\n",
       "    }\n",
       "\n",
       "    .dataframe thead th {\n",
       "        text-align: right;\n",
       "    }\n",
       "</style>\n",
       "<table border=\"1\" class=\"dataframe\">\n",
       "  <thead>\n",
       "    <tr style=\"text-align: right;\">\n",
       "      <th></th>\n",
       "      <th>compound</th>\n",
       "      <th>medMz</th>\n",
       "      <th>medRt</th>\n",
       "      <th>precursorMz_m</th>\n",
       "      <th>retentionTime_m</th>\n",
       "      <th>mzarray</th>\n",
       "      <th>mzarray_norm</th>\n",
       "      <th>sample</th>\n",
       "    </tr>\n",
       "  </thead>\n",
       "  <tbody>\n",
       "    <tr>\n",
       "      <th>2</th>\n",
       "      <td>LPE(18:1)</td>\n",
       "      <td>478.2940</td>\n",
       "      <td>4.491090</td>\n",
       "      <td>478.294700</td>\n",
       "      <td>4.355333</td>\n",
       "      <td>[[50.377678, 371.70233], [60.227783, 350.77283...</td>\n",
       "      <td>[[281.2485, 1.0], [97.137474, 0.15657541], [73...</td>\n",
       "      <td>20190415_neg_no_cell_a.mzxml</td>\n",
       "    </tr>\n",
       "    <tr>\n",
       "      <th>3</th>\n",
       "      <td>LPE(18:1)</td>\n",
       "      <td>478.2940</td>\n",
       "      <td>4.491090</td>\n",
       "      <td>478.294600</td>\n",
       "      <td>4.533850</td>\n",
       "      <td>[[54.16857, 431.823], [61.352737, 390.84186], ...</td>\n",
       "      <td>[[281.24857, 1.0], [72.33921, 0.3456939], [97....</td>\n",
       "      <td>20190415_neg_no_cell_a.mzxml</td>\n",
       "    </tr>\n",
       "    <tr>\n",
       "      <th>7</th>\n",
       "      <td>PE(34:1)</td>\n",
       "      <td>716.5236</td>\n",
       "      <td>7.343664</td>\n",
       "      <td>716.525100</td>\n",
       "      <td>7.242267</td>\n",
       "      <td>[[50.899265, 419.76917], [53.46752, 408.4398],...</td>\n",
       "      <td>[[281.24908, 1.0], [255.23322, 0.61523485], [7...</td>\n",
       "      <td>20190415_neg_no_cell_a.mzxml</td>\n",
       "    </tr>\n",
       "    <tr>\n",
       "      <th>9</th>\n",
       "      <td>PE(36:1)</td>\n",
       "      <td>744.5551</td>\n",
       "      <td>7.800491</td>\n",
       "      <td>744.556967</td>\n",
       "      <td>7.690483</td>\n",
       "      <td>[[52.477253, 436.31097], [58.639328, 466.2066]...</td>\n",
       "      <td>[[281.2491, 1.0], [283.26492, 0.44901642], [61...</td>\n",
       "      <td>20190415_neg_no_cell_a.mzxml</td>\n",
       "    </tr>\n",
       "    <tr>\n",
       "      <th>10</th>\n",
       "      <td>PE(36:1)</td>\n",
       "      <td>744.5551</td>\n",
       "      <td>7.800491</td>\n",
       "      <td>744.556335</td>\n",
       "      <td>7.870767</td>\n",
       "      <td>[[52.15212, 474.45694], [57.537872, 394.1312],...</td>\n",
       "      <td>[[97.14054, 1.0], [281.2483, 0.53961277], [603...</td>\n",
       "      <td>20190415_neg_no_cell_a.mzxml</td>\n",
       "    </tr>\n",
       "  </tbody>\n",
       "</table>\n",
       "</div>"
      ],
      "text/plain": [
       "     compound     medMz     medRt  precursorMz_m  retentionTime_m  \\\n",
       "2   LPE(18:1)  478.2940  4.491090     478.294700         4.355333   \n",
       "3   LPE(18:1)  478.2940  4.491090     478.294600         4.533850   \n",
       "7    PE(34:1)  716.5236  7.343664     716.525100         7.242267   \n",
       "9    PE(36:1)  744.5551  7.800491     744.556967         7.690483   \n",
       "10   PE(36:1)  744.5551  7.800491     744.556335         7.870767   \n",
       "\n",
       "                                              mzarray  \\\n",
       "2   [[50.377678, 371.70233], [60.227783, 350.77283...   \n",
       "3   [[54.16857, 431.823], [61.352737, 390.84186], ...   \n",
       "7   [[50.899265, 419.76917], [53.46752, 408.4398],...   \n",
       "9   [[52.477253, 436.31097], [58.639328, 466.2066]...   \n",
       "10  [[52.15212, 474.45694], [57.537872, 394.1312],...   \n",
       "\n",
       "                                         mzarray_norm  \\\n",
       "2   [[281.2485, 1.0], [97.137474, 0.15657541], [73...   \n",
       "3   [[281.24857, 1.0], [72.33921, 0.3456939], [97....   \n",
       "7   [[281.24908, 1.0], [255.23322, 0.61523485], [7...   \n",
       "9   [[281.2491, 1.0], [283.26492, 0.44901642], [61...   \n",
       "10  [[97.14054, 1.0], [281.2483, 0.53961277], [603...   \n",
       "\n",
       "                          sample  \n",
       "2   20190415_neg_no_cell_a.mzxml  \n",
       "3   20190415_neg_no_cell_a.mzxml  \n",
       "7   20190415_neg_no_cell_a.mzxml  \n",
       "9   20190415_neg_no_cell_a.mzxml  \n",
       "10  20190415_neg_no_cell_a.mzxml  "
      ]
     },
     "execution_count": 16,
     "metadata": {},
     "output_type": "execute_result"
    }
   ],
   "source": [
    "\n",
    "filtered_data = pd.read_pickle(os.path.join(data_out, base_name+\"_filtered_data.pkl\"))\n",
    "filtered_data.head()"
   ]
  },
  {
   "cell_type": "markdown",
   "metadata": {},
   "source": [
    "## Generate indexed list of MS2 spectra"
   ]
  },
  {
   "cell_type": "markdown",
   "metadata": {},
   "source": [
    "#### Optional: remove blank and \"no_cell\" spectra"
   ]
  },
  {
   "cell_type": "code",
   "execution_count": 4,
   "metadata": {},
   "outputs": [],
   "source": [
    "filtered_data = filtered_data.loc[~filtered_data['sample'].str.contains('blank', regex=False)]\n",
    "filtered_data = filtered_data.loc[~filtered_data['sample'].str.contains('no_cell', regex=False)]\n"
   ]
  },
  {
   "cell_type": "markdown",
   "metadata": {},
   "source": [
    "#### Missing compounds"
   ]
  },
  {
   "cell_type": "markdown",
   "metadata": {},
   "source": [
    "This cell block will look at all the compounds in the Maven CSV file you inputted and tell you which ones the script could not find MS2 data for. The next cell block will save it to a CSV file."
   ]
  },
  {
   "cell_type": "code",
   "execution_count": 9,
   "metadata": {
    "scrolled": true
   },
   "outputs": [
    {
     "name": "stdout",
     "output_type": "stream",
     "text": [
      "Cannot find spectra for 2 compounds:\n",
      "    compound     medMz     medRt\n",
      "7   PE(36:0)  746.5696  6.700418\n",
      "25  PE(48:2)  910.7282  9.957553\n"
     ]
    }
   ],
   "source": [
    "## generate list of missing compounds\n",
    "\n",
    "mdf = pd.read_csv(os.path.join(data_dir, maven_name))\n",
    "mdf = mv.apply_mdf(mdf, filtered_data)\n",
    "print('Cannot find spectra for '+str(len(mdf.loc[mdf['spectra'] == 0]['compound'].unique()))+' compounds:')\n",
    "\n",
    "print(mdf.loc[mdf['spectra'] == 0][['compound','medMz','medRt']])\n"
   ]
  },
  {
   "cell_type": "code",
   "execution_count": 11,
   "metadata": {},
   "outputs": [],
   "source": [
    "## save missing compounds to CSV file\n",
    "mdf.loc[mdf['spectra'] == 0].to_csv(os.path.join(data_out, base_name+'_missing_compounds.csv'), index=False)"
   ]
  },
  {
   "cell_type": "markdown",
   "metadata": {},
   "source": [
    "#### Optional: Search for fragments"
   ]
  },
  {
   "cell_type": "markdown",
   "metadata": {},
   "source": [
    "in the variable \"ref_array\" you can enter fragments you would like to search for, separated by commas. The script will check each spectra and add a column that says \"TRUE\" or \"FALSE\" for each fragment."
   ]
  },
  {
   "cell_type": "code",
   "execution_count": 10,
   "metadata": {},
   "outputs": [
    {
     "name": "stdout",
     "output_type": "stream",
     "text": [
      "Compounds containing fragment: 196.038\n",
      "['LPE(18:1)' 'PE(34:1)' 'PE(38:6)' 'PE(40:4)' 'PE(40:5)' 'PE(O-36:5)'\n",
      " 'PE(36:1)' 'LPE(16:0)' 'PE(38:2)' 'PE(38:5)' 'PE(40:3)' 'LPE(20:1)'\n",
      " 'PE(40:2)' 'PE(34:0)' 'PE(38:1)']\n"
     ]
    }
   ],
   "source": [
    "## ref_array is list of fragments to search for, separated by commas\n",
    "ref_array = [196.038]\n",
    "## loops through each fragment, makes a new column with \"True\" or \"False\" if it finds it\n",
    "for ref_value in ref_array:\n",
    "    filtered_data[str(ref_value)] = filtered_data['mzarray_norm'].apply(mv.check_in_array, ref_value = ref_value, fragment_threshold = 10e-6)\n",
    "    print('Compounds containing fragment: '+str(ref_value))\n",
    "    ## lists unique compounds containing it (if you want to see compounds NOT containing it, change True to False)\n",
    "    print(filtered_data.loc[filtered_data[str(ref_value)] == True]['compound'].unique())"
   ]
  },
  {
   "cell_type": "markdown",
   "metadata": {},
   "source": [
    "The cell block below will make a list of all the MS2 spectra associated with each compound. The column \"index\" counts from 0 to however many spectra you have associated with that compound. This list is exported to CSV in the next cell block so that you can easily see what spectra you have and what experimental conditions they are associated with, as well if they have the target fragments that you searched for previously."
   ]
  },
  {
   "cell_type": "code",
   "execution_count": 11,
   "metadata": {
    "scrolled": true
   },
   "outputs": [
    {
     "data": {
      "text/html": [
       "<div>\n",
       "<style scoped>\n",
       "    .dataframe tbody tr th:only-of-type {\n",
       "        vertical-align: middle;\n",
       "    }\n",
       "\n",
       "    .dataframe tbody tr th {\n",
       "        vertical-align: top;\n",
       "    }\n",
       "\n",
       "    .dataframe thead th {\n",
       "        text-align: right;\n",
       "    }\n",
       "</style>\n",
       "<table border=\"1\" class=\"dataframe\">\n",
       "  <thead>\n",
       "    <tr style=\"text-align: right;\">\n",
       "      <th></th>\n",
       "      <th>index</th>\n",
       "      <th>compound</th>\n",
       "      <th>medMz</th>\n",
       "      <th>medRt</th>\n",
       "      <th>precursorMz_m</th>\n",
       "      <th>retentionTime_m</th>\n",
       "      <th>sample</th>\n",
       "      <th>196.038</th>\n",
       "    </tr>\n",
       "  </thead>\n",
       "  <tbody>\n",
       "    <tr>\n",
       "      <th>0</th>\n",
       "      <td>0</td>\n",
       "      <td>LPE(16:0)</td>\n",
       "      <td>452.2784</td>\n",
       "      <td>4.441996</td>\n",
       "      <td>452.2788</td>\n",
       "      <td>3.954500</td>\n",
       "      <td>20190415_neg_mock_dmso_a.mzxml</td>\n",
       "      <td>False</td>\n",
       "    </tr>\n",
       "    <tr>\n",
       "      <th>1</th>\n",
       "      <td>1</td>\n",
       "      <td>LPE(16:0)</td>\n",
       "      <td>452.2784</td>\n",
       "      <td>4.441996</td>\n",
       "      <td>452.2789</td>\n",
       "      <td>4.153617</td>\n",
       "      <td>20190415_neg_mock_dmso_a.mzxml</td>\n",
       "      <td>False</td>\n",
       "    </tr>\n",
       "    <tr>\n",
       "      <th>2</th>\n",
       "      <td>2</td>\n",
       "      <td>LPE(16:0)</td>\n",
       "      <td>452.2784</td>\n",
       "      <td>4.441996</td>\n",
       "      <td>452.2788</td>\n",
       "      <td>4.332050</td>\n",
       "      <td>20190415_neg_mock_dmso_a.mzxml</td>\n",
       "      <td>False</td>\n",
       "    </tr>\n",
       "    <tr>\n",
       "      <th>3</th>\n",
       "      <td>3</td>\n",
       "      <td>LPE(16:0)</td>\n",
       "      <td>452.2784</td>\n",
       "      <td>4.441996</td>\n",
       "      <td>452.2787</td>\n",
       "      <td>4.121667</td>\n",
       "      <td>20190415_neg_mock_dmso_b.mzxml</td>\n",
       "      <td>False</td>\n",
       "    </tr>\n",
       "    <tr>\n",
       "      <th>4</th>\n",
       "      <td>4</td>\n",
       "      <td>LPE(16:0)</td>\n",
       "      <td>452.2784</td>\n",
       "      <td>4.441996</td>\n",
       "      <td>452.2786</td>\n",
       "      <td>4.304967</td>\n",
       "      <td>20190415_neg_mock_dmso_b.mzxml</td>\n",
       "      <td>False</td>\n",
       "    </tr>\n",
       "  </tbody>\n",
       "</table>\n",
       "</div>"
      ],
      "text/plain": [
       "   index   compound     medMz     medRt  precursorMz_m  retentionTime_m  \\\n",
       "0      0  LPE(16:0)  452.2784  4.441996       452.2788         3.954500   \n",
       "1      1  LPE(16:0)  452.2784  4.441996       452.2789         4.153617   \n",
       "2      2  LPE(16:0)  452.2784  4.441996       452.2788         4.332050   \n",
       "3      3  LPE(16:0)  452.2784  4.441996       452.2787         4.121667   \n",
       "4      4  LPE(16:0)  452.2784  4.441996       452.2786         4.304967   \n",
       "\n",
       "                           sample  196.038  \n",
       "0  20190415_neg_mock_dmso_a.mzxml    False  \n",
       "1  20190415_neg_mock_dmso_a.mzxml    False  \n",
       "2  20190415_neg_mock_dmso_a.mzxml    False  \n",
       "3  20190415_neg_mock_dmso_b.mzxml    False  \n",
       "4  20190415_neg_mock_dmso_b.mzxml    False  "
      ]
     },
     "execution_count": 11,
     "metadata": {},
     "output_type": "execute_result"
    }
   ],
   "source": [
    "# make list of m/z, RTs and indexes for spectra\n",
    "dataframe_list=[]\n",
    "for name, group in filtered_data.groupby(['compound']):\n",
    "    new_df = group.reset_index().drop(columns=['index', 'mzarray','mzarray_norm']).reset_index()\n",
    "    dataframe_list.append(new_df)\n",
    "    group_df = pd.concat(dataframe_list).reset_index(drop=True)\n",
    "\n",
    "group_df.head()"
   ]
  },
  {
   "cell_type": "code",
   "execution_count": 12,
   "metadata": {},
   "outputs": [],
   "source": [
    "## save list of m/z, RTs and indexes for spectra to CSV\n",
    "group_df.to_csv(os.path.join(data_out, base_name+'_spectra_list.csv'), index=False)"
   ]
  },
  {
   "cell_type": "markdown",
   "metadata": {},
   "source": [
    "## Generate MS2 CSV files"
   ]
  },
  {
   "cell_type": "markdown",
   "metadata": {},
   "source": [
    "The below section will generate individual CSV files for spectra, saved in the \"fig_out\" subdirectory which you can set below. There are a few different options. The first cell block will go through each compound and give you a CSV file for the first indexed compound (index = 0)."
   ]
  },
  {
   "cell_type": "code",
   "execution_count": 15,
   "metadata": {},
   "outputs": [],
   "source": [
    "# output subdirectory\n",
    "fig_out = r'C:\\Users\\Lisa\\Desktop\\Python scripts\\YX\\spectra'"
   ]
  },
  {
   "cell_type": "markdown",
   "metadata": {},
   "source": [
    "#### Get first indexed spectra for all compounds (looped)"
   ]
  },
  {
   "cell_type": "code",
   "execution_count": null,
   "metadata": {},
   "outputs": [],
   "source": [
    "for compound in filtered_data['compound'].unique().tolist():\n",
    "    mv.spectra_plot_compound(filtered_data, compound, base_name, fig_out, index=0, \n",
    "                             spectensity=0.01, compound_col='compound', save = True, run_all = False)"
   ]
  },
  {
   "cell_type": "markdown",
   "metadata": {},
   "source": [
    "#### Generate all spectra for individual compounds"
   ]
  },
  {
   "cell_type": "markdown",
   "metadata": {},
   "source": [
    "If you want to look at all the spectra associated with one particular compound (e.g. \"PC(50:5)\"), change the \"compound\" variable to EXACTLY the name of the compound you are looking for. The code as written will show you each spectra in the window below. If you want to save them all you can change \"save\" from False to True inside the parentheses."
   ]
  },
  {
   "cell_type": "code",
   "execution_count": null,
   "metadata": {
    "scrolled": true
   },
   "outputs": [],
   "source": [
    "compound = 'PC(42:3)'\n",
    "mv.spectra_plot_compound(filtered_data, compound, base_name, fig_out, index=0, \n",
    "                             spectensity=0.01, compound_col='compound', save = False, run_all = True)"
   ]
  },
  {
   "cell_type": "markdown",
   "metadata": {},
   "source": [
    "#### Generate one spectra by compound name and index"
   ]
  },
  {
   "cell_type": "markdown",
   "metadata": {},
   "source": [
    "If you want to look at one particular compound and one particular index (the same index as in the CSV list you saved earlier) you can input them here. Currently it is set to both show you in the window and save it to your spectra directory."
   ]
  },
  {
   "cell_type": "code",
   "execution_count": null,
   "metadata": {
    "scrolled": true
   },
   "outputs": [],
   "source": [
    "compound = 'PC(36:2)'\n",
    "index = 50\n",
    "\n",
    "mv.spectra_plot_compound(filtered_data, compound, base_name, fig_out, index=index, \n",
    "                             spectensity=0.01, compound_col='compound', save = True, run_all = False)"
   ]
  },
  {
   "cell_type": "markdown",
   "metadata": {},
   "source": [
    "### Identify fatty acid tails from fragments"
   ]
  },
  {
   "cell_type": "markdown",
   "metadata": {},
   "source": [
    "This section of code is a bit more user intensive and may require you to change some variables. To identify fatty acid tails you will need a CSV file that has the names of the FA chains you want to identify and their molecular weights IN NEGATIVE MODE - meaning e.g. C20:4[-H]. "
   ]
  },
  {
   "cell_type": "markdown",
   "metadata": {},
   "source": [
    "The below code reads in the filtered_data matrix generated earlier (or read in as pkl file) and performs clustering to assign each fragment within a ppm range (ppm_frag, default is 60 ppm) a unique cluster id that can be used to assign headgroups or FA tails to it. The \"delta_ppm\" shows the difference between each subgroup set in indices. If it is less than 60 ppm, then change the index slightly and re-run until you get good separation. The lowest index value in \"indices\" must be HIGHER than the lowest m/z val, and the highest index value in \"indices\" must also be HIGHER than the maximum m/z val or IT WILL NOT WORK."
   ]
  },
  {
   "cell_type": "code",
   "execution_count": 5,
   "metadata": {},
   "outputs": [
    {
     "name": "stdout",
     "output_type": "stream",
     "text": [
      "fragment matrix length: 15720\n",
      "Minimum m/z val: [50.0132]\n",
      "Maximum m/z val: [907.543]\n",
      "0| delta_ppm = 717.6616501578031 (199.87435913085938, 200.01785278320312)\n",
      "1| delta_ppm = 1073.1568099679237 (299.9936218261719, 300.31573486328125)\n",
      "2| delta_ppm = 416.8649853061388 (399.8483581542969, 400.01507568359375)\n",
      "3| delta_ppm = 784.2349670727804 (499.8854064941406, 500.277587890625)\n",
      "4| delta_ppm = 436.73508731013965 (599.8297729492188, 600.091796875)\n",
      "5| delta_ppm = 2371.736511288615 (698.5023193359375, 700.1609497070312)\n",
      "6| delta_ppm = 508.69256852507084 (799.6123657226562, 800.0192260742188)\n",
      "7| delta_ppm = 7405.764013659422 (898.3306884765625, 905.0082397460938)\n",
      "0| dist criterion:[0.00749663], unique clust=4694, total compounds=7632\n",
      "1| dist criterion:[0.01500034], unique clust=1190, total compounds=3207\n",
      "2| dist criterion:[0.02100492], unique clust=756, total compounds=1887\n",
      "3| dist criterion:[0.02699701], unique clust=602, total compounds=1254\n",
      "4| dist criterion:[0.03300322], unique clust=352, total compounds=469\n",
      "5| dist criterion:[0.03895782], unique clust=276, total compounds=386\n",
      "6| dist criterion:[0.0449932], unique clust=268, total compounds=706\n",
      "7| dist criterion:[0.0509505], unique clust=94, total compounds=177\n",
      "8| dist criterion:[0.05437654], unique clust=2, total compounds=2\n"
     ]
    },
    {
     "data": {
      "text/html": [
       "<div>\n",
       "<style scoped>\n",
       "    .dataframe tbody tr th:only-of-type {\n",
       "        vertical-align: middle;\n",
       "    }\n",
       "\n",
       "    .dataframe tbody tr th {\n",
       "        vertical-align: top;\n",
       "    }\n",
       "\n",
       "    .dataframe thead th {\n",
       "        text-align: right;\n",
       "    }\n",
       "</style>\n",
       "<table border=\"1\" class=\"dataframe\">\n",
       "  <thead>\n",
       "    <tr style=\"text-align: right;\">\n",
       "      <th></th>\n",
       "      <th>mzclusters</th>\n",
       "      <th>spec_index</th>\n",
       "      <th>compound</th>\n",
       "      <th>medMz</th>\n",
       "      <th>medRt</th>\n",
       "      <th>sample</th>\n",
       "      <th>mz frag</th>\n",
       "      <th>intensity frag</th>\n",
       "    </tr>\n",
       "  </thead>\n",
       "  <tbody>\n",
       "    <tr>\n",
       "      <th>0</th>\n",
       "      <td>1615</td>\n",
       "      <td>24</td>\n",
       "      <td>LPE(16:0)</td>\n",
       "      <td>452.2784</td>\n",
       "      <td>4.441996</td>\n",
       "      <td>20190415_neg_WT_TLCK_a.mzxml</td>\n",
       "      <td>50.013214</td>\n",
       "      <td>0.039278</td>\n",
       "    </tr>\n",
       "    <tr>\n",
       "      <th>1</th>\n",
       "      <td>1616</td>\n",
       "      <td>6</td>\n",
       "      <td>LPE(20:1)</td>\n",
       "      <td>506.3255</td>\n",
       "      <td>5.012019</td>\n",
       "      <td>20190415_neg_WT_dmso_a.mzxml</td>\n",
       "      <td>50.045918</td>\n",
       "      <td>0.056111</td>\n",
       "    </tr>\n",
       "    <tr>\n",
       "      <th>2</th>\n",
       "      <td>1614</td>\n",
       "      <td>13</td>\n",
       "      <td>PE(34:1)</td>\n",
       "      <td>716.5236</td>\n",
       "      <td>7.343664</td>\n",
       "      <td>20190415_neg_WT_TLCK_a.mzxml</td>\n",
       "      <td>50.084728</td>\n",
       "      <td>0.004529</td>\n",
       "    </tr>\n",
       "    <tr>\n",
       "      <th>3</th>\n",
       "      <td>1613</td>\n",
       "      <td>57</td>\n",
       "      <td>LPE(18:1)</td>\n",
       "      <td>478.2940</td>\n",
       "      <td>4.491090</td>\n",
       "      <td>20190415_neg_dl37x1_dmos_a.mzxml</td>\n",
       "      <td>50.096676</td>\n",
       "      <td>0.009779</td>\n",
       "    </tr>\n",
       "    <tr>\n",
       "      <th>4</th>\n",
       "      <td>1613</td>\n",
       "      <td>44</td>\n",
       "      <td>LPE(16:0)</td>\n",
       "      <td>452.2784</td>\n",
       "      <td>4.441996</td>\n",
       "      <td>20190415_neg_dl37x1_TLCK_a.mzxml</td>\n",
       "      <td>50.102745</td>\n",
       "      <td>0.012517</td>\n",
       "    </tr>\n",
       "  </tbody>\n",
       "</table>\n",
       "</div>"
      ],
      "text/plain": [
       "   mzclusters  spec_index   compound     medMz     medRt  \\\n",
       "0        1615          24  LPE(16:0)  452.2784  4.441996   \n",
       "1        1616           6  LPE(20:1)  506.3255  5.012019   \n",
       "2        1614          13   PE(34:1)  716.5236  7.343664   \n",
       "3        1613          57  LPE(18:1)  478.2940  4.491090   \n",
       "4        1613          44  LPE(16:0)  452.2784  4.441996   \n",
       "\n",
       "                             sample    mz frag  intensity frag  \n",
       "0      20190415_neg_WT_TLCK_a.mzxml  50.013214        0.039278  \n",
       "1      20190415_neg_WT_dmso_a.mzxml  50.045918        0.056111  \n",
       "2      20190415_neg_WT_TLCK_a.mzxml  50.084728        0.004529  \n",
       "3  20190415_neg_dl37x1_dmos_a.mzxml  50.096676        0.009779  \n",
       "4  20190415_neg_dl37x1_TLCK_a.mzxml  50.102745        0.012517  "
      ]
     },
     "execution_count": 5,
     "metadata": {},
     "output_type": "execute_result"
    }
   ],
   "source": [
    "df2 = mv.aggregate_ms2(filtered_data, indices = [200, 300, 400, 500, 600, 700, 800, 900, 1000, 1200, 3000], ppm_frag = 60)\n",
    "df2.head()"
   ]
  },
  {
   "cell_type": "markdown",
   "metadata": {},
   "source": [
    "The code below groups each spectra individually according to the index given to it in your database so that you can look at individual spectra. It will take some time to run. Ignore the pink warning, it is fine."
   ]
  },
  {
   "cell_type": "code",
   "execution_count": 6,
   "metadata": {},
   "outputs": [
    {
     "name": "stderr",
     "output_type": "stream",
     "text": [
      "using a dict with renaming is deprecated and will be removed in a future version\n"
     ]
    },
    {
     "name": "stdout",
     "output_type": "stream",
     "text": [
      "15600\n"
     ]
    },
    {
     "data": {
      "text/html": [
       "<div>\n",
       "<style scoped>\n",
       "    .dataframe tbody tr th:only-of-type {\n",
       "        vertical-align: middle;\n",
       "    }\n",
       "\n",
       "    .dataframe tbody tr th {\n",
       "        vertical-align: top;\n",
       "    }\n",
       "\n",
       "    .dataframe thead th {\n",
       "        text-align: right;\n",
       "    }\n",
       "</style>\n",
       "<table border=\"1\" class=\"dataframe\">\n",
       "  <thead>\n",
       "    <tr style=\"text-align: right;\">\n",
       "      <th></th>\n",
       "      <th>compound</th>\n",
       "      <th>spec_index</th>\n",
       "      <th>sample</th>\n",
       "      <th>medRt</th>\n",
       "      <th>medMz</th>\n",
       "      <th>fragment_cluster</th>\n",
       "      <th>frag_mw</th>\n",
       "      <th>count</th>\n",
       "      <th>avg intensity</th>\n",
       "    </tr>\n",
       "  </thead>\n",
       "  <tbody>\n",
       "    <tr>\n",
       "      <th>0</th>\n",
       "      <td>LPE(16:0)</td>\n",
       "      <td>0</td>\n",
       "      <td>20190415_neg_mock_dmso_a.mzxml</td>\n",
       "      <td>4.441996</td>\n",
       "      <td>452.2784</td>\n",
       "      <td>72</td>\n",
       "      <td>171.871933</td>\n",
       "      <td>1</td>\n",
       "      <td>0.031966</td>\n",
       "    </tr>\n",
       "    <tr>\n",
       "      <th>1</th>\n",
       "      <td>LPE(16:0)</td>\n",
       "      <td>0</td>\n",
       "      <td>20190415_neg_mock_dmso_a.mzxml</td>\n",
       "      <td>4.441996</td>\n",
       "      <td>452.2784</td>\n",
       "      <td>3211</td>\n",
       "      <td>112.985489</td>\n",
       "      <td>1</td>\n",
       "      <td>1.000000</td>\n",
       "    </tr>\n",
       "    <tr>\n",
       "      <th>2</th>\n",
       "      <td>LPE(16:0)</td>\n",
       "      <td>0</td>\n",
       "      <td>20190415_neg_mock_dmso_a.mzxml</td>\n",
       "      <td>4.441996</td>\n",
       "      <td>452.2784</td>\n",
       "      <td>7112</td>\n",
       "      <td>452.276642</td>\n",
       "      <td>1</td>\n",
       "      <td>0.036710</td>\n",
       "    </tr>\n",
       "    <tr>\n",
       "      <th>3</th>\n",
       "      <td>LPE(16:0)</td>\n",
       "      <td>0</td>\n",
       "      <td>20190415_neg_mock_dmso_a.mzxml</td>\n",
       "      <td>4.441996</td>\n",
       "      <td>452.2784</td>\n",
       "      <td>5736</td>\n",
       "      <td>248.960587</td>\n",
       "      <td>1</td>\n",
       "      <td>0.848817</td>\n",
       "    </tr>\n",
       "    <tr>\n",
       "      <th>4</th>\n",
       "      <td>LPE(16:0)</td>\n",
       "      <td>0</td>\n",
       "      <td>20190415_neg_mock_dmso_a.mzxml</td>\n",
       "      <td>4.441996</td>\n",
       "      <td>452.2784</td>\n",
       "      <td>5480</td>\n",
       "      <td>255.233261</td>\n",
       "      <td>1</td>\n",
       "      <td>0.354649</td>\n",
       "    </tr>\n",
       "  </tbody>\n",
       "</table>\n",
       "</div>"
      ],
      "text/plain": [
       "    compound  spec_index                          sample     medRt     medMz  \\\n",
       "0  LPE(16:0)           0  20190415_neg_mock_dmso_a.mzxml  4.441996  452.2784   \n",
       "1  LPE(16:0)           0  20190415_neg_mock_dmso_a.mzxml  4.441996  452.2784   \n",
       "2  LPE(16:0)           0  20190415_neg_mock_dmso_a.mzxml  4.441996  452.2784   \n",
       "3  LPE(16:0)           0  20190415_neg_mock_dmso_a.mzxml  4.441996  452.2784   \n",
       "4  LPE(16:0)           0  20190415_neg_mock_dmso_a.mzxml  4.441996  452.2784   \n",
       "\n",
       "   fragment_cluster     frag_mw  count  avg intensity  \n",
       "0                72  171.871933      1       0.031966  \n",
       "1              3211  112.985489      1       1.000000  \n",
       "2              7112  452.276642      1       0.036710  \n",
       "3              5736  248.960587      1       0.848817  \n",
       "4              5480  255.233261      1       0.354649  "
      ]
     },
     "execution_count": 6,
     "metadata": {},
     "output_type": "execute_result"
    }
   ],
   "source": [
    "df3 = mv.groupby_spectra(df2)\n",
    "print(len(df3))\n",
    "df3.head()"
   ]
  },
  {
   "cell_type": "markdown",
   "metadata": {},
   "source": [
    "The below code groups each compound together and reports the relative frequency of compounds within the whole set. Again, there will be a pink warning but it is fine."
   ]
  },
  {
   "cell_type": "code",
   "execution_count": 7,
   "metadata": {},
   "outputs": [
    {
     "name": "stderr",
     "output_type": "stream",
     "text": [
      "\n",
      "A value is trying to be set on a copy of a slice from a DataFrame.\n",
      "Try using .loc[row_indexer,col_indexer] = value instead\n",
      "\n",
      "See the caveats in the documentation: http://pandas.pydata.org/pandas-docs/stable/indexing.html#indexing-view-versus-copy\n"
     ]
    },
    {
     "name": "stdout",
     "output_type": "stream",
     "text": [
      "11097\n"
     ]
    },
    {
     "data": {
      "text/html": [
       "<div>\n",
       "<style scoped>\n",
       "    .dataframe tbody tr th:only-of-type {\n",
       "        vertical-align: middle;\n",
       "    }\n",
       "\n",
       "    .dataframe tbody tr th {\n",
       "        vertical-align: top;\n",
       "    }\n",
       "\n",
       "    .dataframe thead th {\n",
       "        text-align: right;\n",
       "    }\n",
       "</style>\n",
       "<table border=\"1\" class=\"dataframe\">\n",
       "  <thead>\n",
       "    <tr style=\"text-align: right;\">\n",
       "      <th></th>\n",
       "      <th>compound</th>\n",
       "      <th>medRt</th>\n",
       "      <th>medMz</th>\n",
       "      <th>total</th>\n",
       "      <th>fragment_cluster</th>\n",
       "      <th>frag_mw</th>\n",
       "      <th>count</th>\n",
       "      <th>avg intensity</th>\n",
       "      <th>rel freq</th>\n",
       "    </tr>\n",
       "  </thead>\n",
       "  <tbody>\n",
       "    <tr>\n",
       "      <th>0</th>\n",
       "      <td>LPE(16:0)</td>\n",
       "      <td>4.441996</td>\n",
       "      <td>452.2784</td>\n",
       "      <td>51</td>\n",
       "      <td>183</td>\n",
       "      <td>180.972929</td>\n",
       "      <td>51</td>\n",
       "      <td>0.306484</td>\n",
       "      <td>1.0</td>\n",
       "    </tr>\n",
       "    <tr>\n",
       "      <th>1</th>\n",
       "      <td>LPE(16:0)</td>\n",
       "      <td>4.441996</td>\n",
       "      <td>452.2784</td>\n",
       "      <td>51</td>\n",
       "      <td>5480</td>\n",
       "      <td>255.232989</td>\n",
       "      <td>51</td>\n",
       "      <td>0.728276</td>\n",
       "      <td>1.0</td>\n",
       "    </tr>\n",
       "    <tr>\n",
       "      <th>2</th>\n",
       "      <td>LPE(16:0)</td>\n",
       "      <td>4.441996</td>\n",
       "      <td>452.2784</td>\n",
       "      <td>51</td>\n",
       "      <td>5736</td>\n",
       "      <td>248.960422</td>\n",
       "      <td>51</td>\n",
       "      <td>0.612290</td>\n",
       "      <td>1.0</td>\n",
       "    </tr>\n",
       "    <tr>\n",
       "      <th>3</th>\n",
       "      <td>LPE(16:0)</td>\n",
       "      <td>4.441996</td>\n",
       "      <td>452.2784</td>\n",
       "      <td>51</td>\n",
       "      <td>3211</td>\n",
       "      <td>112.985397</td>\n",
       "      <td>51</td>\n",
       "      <td>0.863512</td>\n",
       "      <td>1.0</td>\n",
       "    </tr>\n",
       "    <tr>\n",
       "      <th>4</th>\n",
       "      <td>LPE(16:0)</td>\n",
       "      <td>4.441996</td>\n",
       "      <td>452.2784</td>\n",
       "      <td>51</td>\n",
       "      <td>7112</td>\n",
       "      <td>452.278342</td>\n",
       "      <td>51</td>\n",
       "      <td>0.288033</td>\n",
       "      <td>1.0</td>\n",
       "    </tr>\n",
       "  </tbody>\n",
       "</table>\n",
       "</div>"
      ],
      "text/plain": [
       "    compound     medRt     medMz  total  fragment_cluster     frag_mw  count  \\\n",
       "0  LPE(16:0)  4.441996  452.2784     51               183  180.972929     51   \n",
       "1  LPE(16:0)  4.441996  452.2784     51              5480  255.232989     51   \n",
       "2  LPE(16:0)  4.441996  452.2784     51              5736  248.960422     51   \n",
       "3  LPE(16:0)  4.441996  452.2784     51              3211  112.985397     51   \n",
       "4  LPE(16:0)  4.441996  452.2784     51              7112  452.278342     51   \n",
       "\n",
       "   avg intensity  rel freq  \n",
       "0       0.306484       1.0  \n",
       "1       0.728276       1.0  \n",
       "2       0.612290       1.0  \n",
       "3       0.863512       1.0  \n",
       "4       0.288033       1.0  "
      ]
     },
     "execution_count": 7,
     "metadata": {},
     "output_type": "execute_result"
    }
   ],
   "source": [
    "df4 = mv.groupby_ms2frag(df3)\n",
    "df4.head()"
   ]
  },
  {
   "cell_type": "markdown",
   "metadata": {},
   "source": [
    "The code below reads in a CSV file of your choosing that has FA tail names and m/z information, then maps it to the clusters you have generated. You can set the \"ppm\" value in \"create_frag_dict\". If multiple clusters map to the same m/z value in your file, it will tell you that there are multiple clusters, but it will NOT save any of them. You need to reduce the ppm value until all are unique or ignore that FA tail. FA_lipidmaps_neg.csv has a huge variety of FA tails, including ones with hydroxyl groups or other modifications, while FA_chains.csv has the standard ones we usually use. I also created a CSV file that has all the FA tails, plus the PE headgroup by itself, and PE_head+Tails for all the tails [PE_FA_head.csv].The below code has you put the CSV file in your folder with maven files (data_dir) but you can change that if desired."
   ]
  },
  {
   "cell_type": "code",
   "execution_count": 17,
   "metadata": {},
   "outputs": [
    {
     "name": "stdout",
     "output_type": "stream",
     "text": [
      "cluster for PE_head(m/z = 196.038) is: 401, m/z = 196.0379\n",
      "cluster for FA(12:1)(m/z = 197.1542) is: 441, m/z = 197.1557\n",
      "cluster for FA(14:5)(m/z = 217.1229) is: 5128, m/z = 217.1236\n",
      "cluster for FA(14:0)(m/z = 227.2012) is: 5546, m/z = 227.2016\n",
      "cluster for FA(15:1)(m/z = 239.2012) is: 5861, m/z = 239.2015\n",
      "cluster for FA(15:0)(m/z = 241.2168) is: 5761, m/z = 241.2172\n",
      "cluster for FA(16:3)(m/z = 249.1855) is: 5753, m/z = 249.1861\n",
      "cluster for FA(16:1)(m/z = 253.2168) is: 5453, m/z = 253.2173\n",
      "cluster for FA(16:0)(m/z = 255.2325) is: 5480, m/z = 255.233\n",
      "cluster for FA(17:1(OH,KE2))(m/z = 311.1859) is: 6329, m/z = 311.1841\n",
      "cluster for FA(17:1)(m/z = 267.2325) is: 5297, m/z = 267.2336\n",
      "cluster for FA(17:0)(m/z = 269.2481) is: 5375, m/z = 269.2499\n",
      "cluster for FA(18:5(OH))(m/z = 289.1804) is: 4808, m/z = 289.1799\n",
      "cluster for FA(18:3)(m/z = 277.2168) is: 4868, m/z = 277.2173\n",
      "cluster for FA(18:3(OH))(m/z = 293.2117) is: 4723, m/z = 293.2111\n",
      "cluster for FA(18:2)(m/z = 279.2325) is: 4898, m/z = 279.2328\n",
      "cluster for FA(18:1)(OH2,cyclo))(m/z = 311.2223) is: 6330, m/z = 311.2212\n",
      "cluster for FA(18:1)(m/z = 281.2481) is: 4940, m/z = 281.2486\n",
      "cluster for FA(18:0)(m/z = 283.2638) is: 4781, m/z = 283.2643\n",
      "cluster for FA(20:5)(m/z = 301.2168) is: 6233, m/z = 301.2172\n",
      "cluster for FA(20:4(OH,Ke))(m/z = 365.1965) is: 5925, m/z = 365.1997\n",
      "cluster for FA(20:4)(m/z = 303.2325) is: 6246, m/z = 303.2329\n",
      "cluster for FA(20:4(OH3))(m/z = 351.2172) is: 5957, m/z = 351.2166\n",
      "cluster for FA(20:3)(m/z = 305.2481) is: 6286, m/z = 305.2486\n",
      "cluster for FA(20:2)(m/z = 307.2638) is: 6266, m/z = 307.2643\n",
      "cluster for FA(20:1)(m/z = 309.2794) is: 6308, m/z = 309.2799\n",
      "cluster for FA(20:0)(m/z = 311.2951) is: 6331, m/z = 311.2958\n",
      "cluster for FA(21:3)(m/z = 319.2638) is: 6413, m/z = 319.2642\n",
      "cluster for FA(22:8)(m/z = 323.2011) is: 6436, m/z = 323.2037\n",
      "cluster for FA(22:6)(m/z = 327.2325) is: 6466, m/z = 327.233\n",
      "cluster for FA(22:5)(m/z = 329.2481) is: 6496, m/z = 329.2486\n",
      "cluster for FA(22:4)(m/z = 331.2638) is: 6460, m/z = 331.2645\n",
      "cluster for FA(22:3)(m/z = 333.2794) is: 6564, m/z = 333.28\n",
      "cluster for FA(22:2)(m/z = 335.2951) is: 6580, m/z = 335.2956\n",
      "cluster for FA(22:1)(m/z = 337.3107) is: 6610, m/z = 337.3111\n",
      "cluster for FA(22:0)(m/z = 339.3264) is: 6639, m/z = 339.3268\n",
      "cluster for FA(24:4)(m/z = 359.2951) is: 6029, m/z = 359.295\n",
      "cluster for FA(24:3)(m/z = 361.3107) is: 6012, m/z = 361.3111\n",
      "cluster for FA(24:2)(m/z = 363.3264) is: 5997, m/z = 363.3282\n",
      "cluster for FA(24:1)(m/z = 365.342) is: 5926, m/z = 365.3423\n",
      "cluster for FA(24:0)(m/z = 367.3577) is: 5931, m/z = 367.358\n",
      "cluster for FA(25:0)(m/z = 381.3733) is: 6183, m/z = 381.3771\n",
      "cluster for FA(26:3)(m/z = 389.342) is: 6065, m/z = 389.3439\n",
      "cluster for FA(26:1)(m/z = 393.3733) is: 6105, m/z = 393.3739\n",
      "cluster for FA(26:0)(m/z = 395.389) is: 6133, m/z = 395.389\n",
      "cluster for FA(28:8)(m/z = 407.2951) is: 6757, m/z = 407.2935\n",
      "cluster for FA(28:2)(m/z = 419.389) is: 6872, m/z = 419.3919\n",
      "cluster for FA(28:0(OH))(m/z = 439.4152) is: 6716, m/z = 439.4155\n",
      "cluster for FA(2:0)(m/z = 59.0134) is: 2266, m/z = 59.0137\n",
      "cluster for FA(30:0)(m/z = 451.4516) is: 7108, m/z = 451.4507\n",
      "cluster for FA(31:0)(m/z = 481.4621) is: 6943, m/z = 481.4591\n",
      "cluster for FA(39:0)(m/z = 577.5924) is: 7544, m/z = 577.5918\n",
      "cluster for FA(3:1)(m/z = 71.0134) is: 3119, m/z = 71.0137\n",
      "cluster for FA(3:0(Ke))(m/z = 87.0083) is: 4663, m/z = 87.0086\n",
      "cluster for FA(4:1(OH))(m/z = 101.0239) is: 4103, m/z = 101.0243\n",
      "cluster for FA(4:0(OH2))(m/z = 119.0345) is: 3550, m/z = 119.0347\n",
      "cluster for FA(5:0(OH2))(m/z = 133.0501) is: 735, m/z = 133.0494\n",
      "cluster for FA(5:0(OH3))(m/z = 149.045) is: 1032, m/z = 149.0451\n",
      "cluster for FA(5:1(Ke))(m/z = 113.0239) is: 3213, m/z = 113.0241\n",
      "cluster for FA(5:0(OH,Ke))(m/z = 131.0345) is: 644, m/z = 131.0353\n",
      "cluster for FA(6:0(OH4))(m/z = 179.0556) is: 85, m/z = 179.056\n",
      "cluster for FA(7:1)(m/z = 127.076) is: 3645, m/z = 127.0757\n",
      "cluster for PE_head_FA(12:3(Ke))(m/z = 403.1402) is: 6798, m/z = 403.1365\n",
      "cluster for PE_head_FA(13:1)(m/z = 407.2079) is: 6755, m/z = 407.208\n",
      "cluster for PE_head_FA(17:1(OH,KE2))(m/z = 507.2239) is: 7281, m/z = 507.2255\n",
      "cluster for PE_head_FA(18:0)(m/z = 479.3018) is: 6951, m/z = 479.2972\n",
      "cluster for PE_head_FA(20:2(OH3,cyclo))(m/z = 549.2708) is: 7484, m/z = 549.2668\n",
      "cluster for PE_head_FA(20:1(OH2))(m/z = 553.3021) is: 7460, m/z = 553.3077\n",
      "cluster for PE_head_FA(20:0)(m/z = 507.3331) is: 7282, m/z = 507.3287\n",
      "cluster for PE_head_FA(22:2(OH2,Ke,cyclo))(m/z = 575.2865) is: 7537, m/z = 575.286\n",
      "cluster for PE_head_FA(25:2)(m/z = 573.38) is: 7519, m/z = 573.376\n",
      "cluster for PE_head_FA(33:0(OH))(m/z = 705.5314) is: 7956, m/z = 705.527\n",
      "cluster for PE_head_FA(34:0(OH))(m/z = 719.5471) is: 7937, m/z = 719.5403\n",
      "cluster for PE_head_FA(36:4)(m/z = 723.5209) is: 7917, m/z = 723.515\n",
      "cluster for PE_head_FA(45:0)(m/z = 857.7243) is: 8159, m/z = 857.7322\n",
      "cluster for PE_head_FA(5:0(OH))(m/z = 313.0932) is: 6352, m/z = 313.0932\n",
      "cluster for PE_head_FA(5:0(OH2))(m/z = 329.0881) is: 6499, m/z = 329.0884\n",
      "cluster for PE_head_FA(7:2)(m/z = 337.0932) is: 6605, m/z = 337.0934\n"
     ]
    }
   ],
   "source": [
    "FA = pd.read_csv(os.path.join(data_dir, 'PE_FA_head.csv'))\n",
    "FA['mzclusters'] = 0\n",
    "FA['frag_mw'] = 0\n",
    "\n",
    "\n",
    "FA_dict2 = mv.create_frag_dict(df2, FA, ppm = 10)"
   ]
  },
  {
   "cell_type": "markdown",
   "metadata": {},
   "source": [
    "The code below maps the clusters matched above with your fragment data"
   ]
  },
  {
   "cell_type": "code",
   "execution_count": 12,
   "metadata": {},
   "outputs": [
    {
     "data": {
      "text/html": [
       "<div>\n",
       "<style scoped>\n",
       "    .dataframe tbody tr th:only-of-type {\n",
       "        vertical-align: middle;\n",
       "    }\n",
       "\n",
       "    .dataframe tbody tr th {\n",
       "        vertical-align: top;\n",
       "    }\n",
       "\n",
       "    .dataframe thead th {\n",
       "        text-align: right;\n",
       "    }\n",
       "</style>\n",
       "<table border=\"1\" class=\"dataframe\">\n",
       "  <thead>\n",
       "    <tr style=\"text-align: right;\">\n",
       "      <th></th>\n",
       "      <th>compound</th>\n",
       "      <th>medRt</th>\n",
       "      <th>medMz</th>\n",
       "      <th>total</th>\n",
       "      <th>fragment_cluster</th>\n",
       "      <th>frag_mw</th>\n",
       "      <th>count</th>\n",
       "      <th>avg intensity</th>\n",
       "      <th>rel freq</th>\n",
       "      <th>FA_chain</th>\n",
       "    </tr>\n",
       "  </thead>\n",
       "  <tbody>\n",
       "    <tr>\n",
       "      <th>0</th>\n",
       "      <td>LPE(16:0)</td>\n",
       "      <td>4.441996</td>\n",
       "      <td>452.2784</td>\n",
       "      <td>51</td>\n",
       "      <td>183</td>\n",
       "      <td>180.972929</td>\n",
       "      <td>51</td>\n",
       "      <td>0.306484</td>\n",
       "      <td>1.0</td>\n",
       "      <td>NaN</td>\n",
       "    </tr>\n",
       "    <tr>\n",
       "      <th>1</th>\n",
       "      <td>LPE(16:0)</td>\n",
       "      <td>4.441996</td>\n",
       "      <td>452.2784</td>\n",
       "      <td>51</td>\n",
       "      <td>5480</td>\n",
       "      <td>255.232989</td>\n",
       "      <td>51</td>\n",
       "      <td>0.728276</td>\n",
       "      <td>1.0</td>\n",
       "      <td>FA(16:0)</td>\n",
       "    </tr>\n",
       "    <tr>\n",
       "      <th>2</th>\n",
       "      <td>LPE(16:0)</td>\n",
       "      <td>4.441996</td>\n",
       "      <td>452.2784</td>\n",
       "      <td>51</td>\n",
       "      <td>5736</td>\n",
       "      <td>248.960422</td>\n",
       "      <td>51</td>\n",
       "      <td>0.612290</td>\n",
       "      <td>1.0</td>\n",
       "      <td>NaN</td>\n",
       "    </tr>\n",
       "    <tr>\n",
       "      <th>3</th>\n",
       "      <td>LPE(16:0)</td>\n",
       "      <td>4.441996</td>\n",
       "      <td>452.2784</td>\n",
       "      <td>51</td>\n",
       "      <td>3211</td>\n",
       "      <td>112.985397</td>\n",
       "      <td>51</td>\n",
       "      <td>0.863512</td>\n",
       "      <td>1.0</td>\n",
       "      <td>NaN</td>\n",
       "    </tr>\n",
       "    <tr>\n",
       "      <th>4</th>\n",
       "      <td>LPE(16:0)</td>\n",
       "      <td>4.441996</td>\n",
       "      <td>452.2784</td>\n",
       "      <td>51</td>\n",
       "      <td>7112</td>\n",
       "      <td>452.278342</td>\n",
       "      <td>51</td>\n",
       "      <td>0.288033</td>\n",
       "      <td>1.0</td>\n",
       "      <td>NaN</td>\n",
       "    </tr>\n",
       "  </tbody>\n",
       "</table>\n",
       "</div>"
      ],
      "text/plain": [
       "    compound     medRt     medMz  total  fragment_cluster     frag_mw  count  \\\n",
       "0  LPE(16:0)  4.441996  452.2784     51               183  180.972929     51   \n",
       "1  LPE(16:0)  4.441996  452.2784     51              5480  255.232989     51   \n",
       "2  LPE(16:0)  4.441996  452.2784     51              5736  248.960422     51   \n",
       "3  LPE(16:0)  4.441996  452.2784     51              3211  112.985397     51   \n",
       "4  LPE(16:0)  4.441996  452.2784     51              7112  452.278342     51   \n",
       "\n",
       "   avg intensity  rel freq  FA_chain  \n",
       "0       0.306484       1.0       NaN  \n",
       "1       0.728276       1.0  FA(16:0)  \n",
       "2       0.612290       1.0       NaN  \n",
       "3       0.863512       1.0       NaN  \n",
       "4       0.288033       1.0       NaN  "
      ]
     },
     "execution_count": 12,
     "metadata": {},
     "output_type": "execute_result"
    }
   ],
   "source": [
    "df4['FA_chain'] = df4['fragment_cluster'].map(FA_dict2)\n",
    "df4.head()"
   ]
  },
  {
   "cell_type": "markdown",
   "metadata": {},
   "source": [
    "Write to CSV in your output folder"
   ]
  },
  {
   "cell_type": "code",
   "execution_count": 13,
   "metadata": {},
   "outputs": [],
   "source": [
    "df4.to_csv(os.path.join(data_out, base_name+'_fragmentclusters_FA_heads.csv'), index=False)"
   ]
  },
  {
   "cell_type": "markdown",
   "metadata": {},
   "source": [
    "Optional: map FA chains to all individual spectra and save as a separate CSV file"
   ]
  },
  {
   "cell_type": "code",
   "execution_count": 14,
   "metadata": {},
   "outputs": [
    {
     "data": {
      "text/html": [
       "<div>\n",
       "<style scoped>\n",
       "    .dataframe tbody tr th:only-of-type {\n",
       "        vertical-align: middle;\n",
       "    }\n",
       "\n",
       "    .dataframe tbody tr th {\n",
       "        vertical-align: top;\n",
       "    }\n",
       "\n",
       "    .dataframe thead th {\n",
       "        text-align: right;\n",
       "    }\n",
       "</style>\n",
       "<table border=\"1\" class=\"dataframe\">\n",
       "  <thead>\n",
       "    <tr style=\"text-align: right;\">\n",
       "      <th></th>\n",
       "      <th>compound</th>\n",
       "      <th>spec_index</th>\n",
       "      <th>sample</th>\n",
       "      <th>medRt</th>\n",
       "      <th>medMz</th>\n",
       "      <th>fragment_cluster</th>\n",
       "      <th>frag_mw</th>\n",
       "      <th>count</th>\n",
       "      <th>avg intensity</th>\n",
       "      <th>FA_chain</th>\n",
       "    </tr>\n",
       "  </thead>\n",
       "  <tbody>\n",
       "    <tr>\n",
       "      <th>0</th>\n",
       "      <td>LPE(16:0)</td>\n",
       "      <td>0</td>\n",
       "      <td>20190415_neg_mock_dmso_a.mzxml</td>\n",
       "      <td>4.441996</td>\n",
       "      <td>452.2784</td>\n",
       "      <td>72</td>\n",
       "      <td>171.871933</td>\n",
       "      <td>1</td>\n",
       "      <td>0.031966</td>\n",
       "      <td>NaN</td>\n",
       "    </tr>\n",
       "    <tr>\n",
       "      <th>1</th>\n",
       "      <td>LPE(16:0)</td>\n",
       "      <td>0</td>\n",
       "      <td>20190415_neg_mock_dmso_a.mzxml</td>\n",
       "      <td>4.441996</td>\n",
       "      <td>452.2784</td>\n",
       "      <td>3211</td>\n",
       "      <td>112.985489</td>\n",
       "      <td>1</td>\n",
       "      <td>1.000000</td>\n",
       "      <td>NaN</td>\n",
       "    </tr>\n",
       "    <tr>\n",
       "      <th>2</th>\n",
       "      <td>LPE(16:0)</td>\n",
       "      <td>0</td>\n",
       "      <td>20190415_neg_mock_dmso_a.mzxml</td>\n",
       "      <td>4.441996</td>\n",
       "      <td>452.2784</td>\n",
       "      <td>7112</td>\n",
       "      <td>452.276642</td>\n",
       "      <td>1</td>\n",
       "      <td>0.036710</td>\n",
       "      <td>NaN</td>\n",
       "    </tr>\n",
       "    <tr>\n",
       "      <th>3</th>\n",
       "      <td>LPE(16:0)</td>\n",
       "      <td>0</td>\n",
       "      <td>20190415_neg_mock_dmso_a.mzxml</td>\n",
       "      <td>4.441996</td>\n",
       "      <td>452.2784</td>\n",
       "      <td>5736</td>\n",
       "      <td>248.960587</td>\n",
       "      <td>1</td>\n",
       "      <td>0.848817</td>\n",
       "      <td>NaN</td>\n",
       "    </tr>\n",
       "    <tr>\n",
       "      <th>4</th>\n",
       "      <td>LPE(16:0)</td>\n",
       "      <td>0</td>\n",
       "      <td>20190415_neg_mock_dmso_a.mzxml</td>\n",
       "      <td>4.441996</td>\n",
       "      <td>452.2784</td>\n",
       "      <td>5480</td>\n",
       "      <td>255.233261</td>\n",
       "      <td>1</td>\n",
       "      <td>0.354649</td>\n",
       "      <td>FA(16:0)</td>\n",
       "    </tr>\n",
       "  </tbody>\n",
       "</table>\n",
       "</div>"
      ],
      "text/plain": [
       "    compound  spec_index                          sample     medRt     medMz  \\\n",
       "0  LPE(16:0)           0  20190415_neg_mock_dmso_a.mzxml  4.441996  452.2784   \n",
       "1  LPE(16:0)           0  20190415_neg_mock_dmso_a.mzxml  4.441996  452.2784   \n",
       "2  LPE(16:0)           0  20190415_neg_mock_dmso_a.mzxml  4.441996  452.2784   \n",
       "3  LPE(16:0)           0  20190415_neg_mock_dmso_a.mzxml  4.441996  452.2784   \n",
       "4  LPE(16:0)           0  20190415_neg_mock_dmso_a.mzxml  4.441996  452.2784   \n",
       "\n",
       "   fragment_cluster     frag_mw  count  avg intensity  FA_chain  \n",
       "0                72  171.871933      1       0.031966       NaN  \n",
       "1              3211  112.985489      1       1.000000       NaN  \n",
       "2              7112  452.276642      1       0.036710       NaN  \n",
       "3              5736  248.960587      1       0.848817       NaN  \n",
       "4              5480  255.233261      1       0.354649  FA(16:0)  "
      ]
     },
     "execution_count": 14,
     "metadata": {},
     "output_type": "execute_result"
    }
   ],
   "source": [
    "df3['FA_chain'] = df3['fragment_cluster'].map(FA_dict2)\n",
    "df3.head()"
   ]
  },
  {
   "cell_type": "code",
   "execution_count": 15,
   "metadata": {},
   "outputs": [],
   "source": [
    "df3.to_csv(os.path.join(data_out, base_name+'_fragmentclusters_FA_heads_indivspectra.csv'), index=False)"
   ]
  }
 ],
 "metadata": {
  "kernelspec": {
   "display_name": "Python 3",
   "language": "python",
   "name": "python3"
  },
  "language_info": {
   "codemirror_mode": {
    "name": "ipython",
    "version": 3
   },
   "file_extension": ".py",
   "mimetype": "text/x-python",
   "name": "python",
   "nbconvert_exporter": "python",
   "pygments_lexer": "ipython3",
   "version": "3.6.8"
  }
 },
 "nbformat": 4,
 "nbformat_minor": 2
}
